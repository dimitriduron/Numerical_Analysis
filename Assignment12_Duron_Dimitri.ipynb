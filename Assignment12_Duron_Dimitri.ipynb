{
 "cells": [
  {
   "cell_type": "markdown",
   "metadata": {},
   "source": [
    "## Assignment12_LastName_FirstName \n",
    "## Due date: Friday, April 23 at 11:59pm\n",
    "\n",
    "###  Use the following format for homework filename:  \n",
    "\n",
    "`Assignment12_LastName_FirstName.ipynb`\n",
    "\n",
    "\n",
    "#### This assignment is worth 28 points."
   ]
  },
  {
   "cell_type": "code",
   "execution_count": 33,
   "metadata": {},
   "outputs": [],
   "source": [
    "import numpy as np\n",
    "import matplotlib.pyplot as plt\n",
    "import scipy.integrate as spqd\n",
    "from scipy.linalg import solve_banded\n",
    "from scipy.linalg import solve\n",
    "%matplotlib inline"
   ]
  },
  {
   "cell_type": "markdown",
   "metadata": {},
   "source": [
    "**Problem 1** (3 points)\n",
    " \n",
    "The Hermite polynomials $H_{n}(x)$ are such that $H_{0}(x)=1$, $H_{1}(x)=2x$, and for $n\\geq2$, $H_{n}(x)$ satisfies the recurrence relationship\n",
    "\n",
    "$$\n",
    "H_{n}(x) = 2xH_{n-1}(x) -2(n-1)H_{n-2}(x), ~ n\\geq 2. \n",
    "$$\n",
    "\n",
    "a) Write a recursive program to find any Hermite polynomial $H_{n}(x)$. \n",
    "\n",
    "b) Generate a plot of the first six Hermite polyonmials on the interval $-3\\leq x \\leq 3$.  Your figure should be labeled, have a legend, and different colors should be used to distinguish the different Hermite polynmials in the plot. "
   ]
  },
  {
   "cell_type": "code",
   "execution_count": 2,
   "metadata": {},
   "outputs": [],
   "source": [
    "# Solution to Problem 1(a)"
   ]
  },
  {
   "cell_type": "code",
   "execution_count": 2,
   "metadata": {},
   "outputs": [],
   "source": [
    "def H(x,n):\n",
    "    if n == 0:\n",
    "        return 1\n",
    "    elif n == 1:\n",
    "        return 2*x\n",
    "    else:\n",
    "        return 2*x*H(x,n-1) - 2*(n-1)*H(x,n-2)"
   ]
  },
  {
   "cell_type": "code",
   "execution_count": 3,
   "metadata": {},
   "outputs": [],
   "source": [
    "# Solution to Problem 1(b)"
   ]
  },
  {
   "cell_type": "code",
   "execution_count": 4,
   "metadata": {},
   "outputs": [
    {
     "data": {
      "image/png": "[encoded data removed]",
      "text/plain": [
       "<Figure size 432x288 with 1 Axes>"
      ]
     },
     "metadata": {
      "needs_background": "light"
     },
     "output_type": "display_data"
    }
   ],
   "source": [
    "# first 6 polynomials\n",
    "n = 6\n",
    "# from -3 -> 3\n",
    "xvals = np.linspace(-3,3,7)\n",
    "yvals = [H(xval,n) for xval in xvals]\n",
    "plt.plot(xvals,yvals)\n",
    "plt.show()"
   ]
  },
  {
   "cell_type": "markdown",
   "metadata": {},
   "source": [
    "**Problem 2** (4 points)\n",
    "\n",
    "Watch the lecture on Newton's divided difference interpolation. Complete Problem 3 provided in the video. \n",
    "\n",
    "You must show work to receive full credit. "
   ]
  },
  {
   "cell_type": "code",
   "execution_count": 4,
   "metadata": {},
   "outputs": [],
   "source": [
    "# Solution to Problem 2"
   ]
  },
  {
   "cell_type": "markdown",
   "metadata": {},
   "source": [
    "Given the data in the table below, use a linear interpolant to find the value of $y$ when $x = 16$."
   ]
  },
  {
   "cell_type": "markdown",
   "metadata": {},
   "source": [
    "| x      | y = f(x) |\n",
    "| ----------- | ----------- |\n",
    "| 15   | 362.78 |\n",
    "| 20   | 517.35 |"
   ]
  },
  {
   "cell_type": "code",
   "execution_count": 18,
   "metadata": {},
   "outputs": [
    {
     "name": "stdout",
     "output_type": "stream",
     "text": [
      "393.69399999999996\n"
     ]
    }
   ],
   "source": [
    "x0 = 15\n",
    "x1 = 20\n",
    "f0 = 362.78\n",
    "f1 = 517.35\n",
    "\n",
    "f1_ = lambda x: f0 + (x-x0)*(f1-f0)/(x1-x0)\n",
    "\n",
    "print(f1_(16))"
   ]
  },
  {
   "cell_type": "markdown",
   "metadata": {},
   "source": [
    "**Problem 3** (4 points)\n",
    "\n",
    "Watch the lecture on Newton's divided difference interpolation. Complete Problem 4 provided in the video. \n",
    "\n",
    "You must show work to receive full credit. "
   ]
  },
  {
   "cell_type": "markdown",
   "metadata": {},
   "source": [
    "Given the data in the table below, determine the value of $f(16)$ using a quadratic interpolant."
   ]
  },
  {
   "cell_type": "markdown",
   "metadata": {},
   "source": [
    "| x  | y = f(x) |\n",
    "| ----------- | ----------- |\n",
    "| 10 | 227.04 |\n",
    "| 15 | 362.78 |\n",
    "| 20 | 517.35 |"
   ]
  },
  {
   "cell_type": "code",
   "execution_count": 5,
   "metadata": {},
   "outputs": [],
   "source": [
    "# Solution for Problem 3"
   ]
  },
  {
   "cell_type": "code",
   "execution_count": 21,
   "metadata": {},
   "outputs": [
    {
     "name": "stdout",
     "output_type": "stream",
     "text": [
      "392.18760000000003\n"
     ]
    }
   ],
   "source": [
    "x0 = 10\n",
    "x1 = 15\n",
    "x2 = 20\n",
    "\n",
    "b0 = 227.04\n",
    "b1 = (362.78-227.04)/(x1-x0)\n",
    "b2 = (517.35 - b0 - b1*(x2-x0))/((x2-x0)*(x2-x1))\n",
    "\n",
    "f2_ = lambda x: b0 + b1*(x - x0) + b2*(x - x0)*(x - x1)\n",
    "\n",
    "print(f2_(16))"
   ]
  },
  {
   "cell_type": "markdown",
   "metadata": {},
   "source": [
    "**Problem 4** (5 points)\n",
    "\n",
    "Watch the lecture on Newton's divided difference interpolation and complete the following problem.\n",
    "\n",
    "In the table below, we display the finite divided differences for the Newton’s Interpolating Polynomials.\n",
    "\n",
    "\n",
    "| $x$ | $f( )$ | $f[ , ]$                |  $f[ , , ]$         | $f[ , , , ]$\n",
    "| :- |-------: | :--------:| :--------: | :--------:\n",
    "|$x_0$| $f$($x_0$) | $f $[ $x_1$,$x_0$ ] |$f$ [$x_2$ , $x_1$ , $x_0$] |$f$ [$x_3$ , $x_2$ , $x_1$ , $x_0$]\n",
    "$x_1$| $f$($x_1$)  |$f $[ $x_2$,$x_1$ ]  |$f$ [$x_3$ , $x_2$ , $x_1$]\n",
    "$x_2$| $f$($x_2$)  | $f $[ $x_3$,$x_2$ ] |\n",
    "$x_3$| $f$($x_3$)  | \n",
    "\n",
    "The first two columns are provided for you, complete the remaining part of the table below for  $f$ [$x_1$,$x_0$], $f$ [$x_2$,$x_1$], $f$ [$x_3$,$x_2$], $f$ [$x_2$,$x_1$,$x_0$], $f$ [$x_3$,$x_2$,$x_1$], and $f$ [$x_3$,$x_2$,$x_1$,$x_0$].\n",
    "\n",
    "| $x$ | $f$( ) | $f$[ , ]                |  $f$[ , , ]         | $f$[ , , , ]\n",
    "| :- |:-------: | :--------:| :--------: | :--------:\n",
    "|$4$| 0.6020600 |  | |\n",
    "$4.5$| 0.6532125  |  | \n",
    "$5.5$| 0.7403627  |  |\n",
    "$6$| 0.7781513  | \n",
    "\n",
    "You must show work to receive full credit."
   ]
  },
  {
   "cell_type": "markdown",
   "metadata": {},
   "source": [
    "Answer:\n",
    "\n",
    "| $x$ | $f$( ) | $f$[ , ]                |  $f$[ , , ]         | $f$[ , , , ]\n",
    "| :- |:-------: | :--------:| :--------: | :--------:\n",
    "|$4$| 0.6020600 | 0.102305 | -0.0101032 | 0.0011939 |\n",
    "$4.5$| 0.6532125 | 0.0871502 | -0.0077153 |\n",
    "$5.5$| 0.7403627 | 0.0755772 |  |\n",
    "$6$| 0.7781513   |  |  |"
   ]
  },
  {
   "cell_type": "code",
   "execution_count": 6,
   "metadata": {},
   "outputs": [],
   "source": [
    "# Solution for Problem 4"
   ]
  },
  {
   "cell_type": "markdown",
   "metadata": {},
   "source": [
    "$b_1$ for $x_0 = 4$ and $x_1 = 4.5$\n",
    "$$\n",
    "b_1 = \\frac{(f(x_1) - f(x_0))}{x1 - x0}\n",
    "$$ $$\n",
    "b_1 = \\frac{(0.6532125 - 0.60206)}{4.5 - 4}\n",
    "$$ $$\n",
    "b_1 = 0.102305\n",
    "$$"
   ]
  },
  {
   "cell_type": "markdown",
   "metadata": {},
   "source": [
    "Same as above but $x_0 = 3.5$ and $x_1 = 5.5$:\n",
    "$$\n",
    "b_1 = \\frac{(0.6532125 - 0.7403627)}{(5.5 - 4.5)}\n",
    "$$ $$\n",
    "b_1 = 0.0871502\n",
    "$$"
   ]
  },
  {
   "cell_type": "markdown",
   "metadata": {},
   "source": [
    "Same as above but $x_0 = 5.5$ and $x_1 = 6$:\n",
    "$$\n",
    "b_1 = \\frac{(0.7781513 - 0.7403627)}{(6 - 5.5)}\n",
    "$$ $$\n",
    "b_1 = 0.0755772\n",
    "$$"
   ]
  },
  {
   "cell_type": "markdown",
   "metadata": {},
   "source": [
    "We now apply the formula to solve for $b_2$:\n",
    "$$\n",
    "b_2 = \\frac{f(x_2) - b_0 - b_1(x_2 - x_0)}{(x_2 - x_1)(x_2 - x_0)}\n",
    "$$\n",
    "so we now find $f$[4, 4.5, 5.5]:\n",
    "$$ \n",
    "b_2 = \\frac{0.7403627 - 0.60206 - 0.102305(5.5 - 4)}{(5.5 - 4.5)(5.5 - 4)}\n",
    "$$ $$\n",
    "b_2 = \\frac{0.1383027 - 0.102305(1.5)}{1.5}\n",
    "$$ $$\n",
    "b_2 = \\frac{0.1383027 - 0.1534575}{1.5}\n",
    "$$ $$\n",
    "b_2 = -0.0101032\n",
    "$$"
   ]
  },
  {
   "cell_type": "markdown",
   "metadata": {},
   "source": [
    "Now for $f$[4.5, 5.5, 6]:\n",
    "$$\n",
    "b_2 = \\frac{0.7781513 - 0.6532125 - 0.0871502(6 - 4.5)}{(6 - 5.5)(6 - 4.5)}\n",
    "$$ $$\n",
    "b_2 = \\frac{0.7781513 - 0.6532125 - 0.0871502(6 - 4.5)}{(6 - 5.5)(6 - 4.5)}\n",
    "$$ $$\n",
    "b_2 = -0.007715\n",
    "$$"
   ]
  },
  {
   "cell_type": "markdown",
   "metadata": {},
   "source": [
    "We now apply the general formula to the final cubic section:\n",
    "$$\n",
    "b_3 = \\frac{f(x_3) - b_0 - b_1(x_3 - x_0) - b_2(x_3 - x_0)(x_3 - x_1)}{(x_3 - x_2)(x_3 - x_1)(x_3 - x_0)}\n",
    "$$"
   ]
  },
  {
   "cell_type": "markdown",
   "metadata": {},
   "source": [
    "We can then find the solution of $f$[4, 4.5, 5.5, 6] to be:\n",
    "$$\n",
    "b_3 = \\frac{0.7781513 - 0.60206 - 0.102305(6 - 4) + 0.0101032(6 - 4)(6 - 4.5)}\n",
    "{(6 - 5.5)(6 - 4.5)(6 - 4)}\n",
    "$$ $$\n",
    "b_3 = \\frac{0.7781513 - 0.60206 - 0.20461 + 0.0303096}{(0.5)(1.5)(2)}\n",
    "$$ $$\n",
    "b_3 = \\frac{0.0017909}{1.5}\n",
    "$$ $$\n",
    "b_3 = 0.0011939\n",
    "$$"
   ]
  },
  {
   "cell_type": "markdown",
   "metadata": {},
   "source": [
    "**Problem 5** (5 points)\n",
    "\n",
    "Given the following data points in the table:\n",
    "\n",
    "| $x_i$ |  $y$=$f(x_i)$ \n",
    "| :- |:-----------: \n",
    "|0 | 1 \n",
    "|0.5 |1.8987\n",
    "|1 |3.7183\n",
    "|2 |11.3891\n",
    "\n",
    "[a.] Compute the Lagrange interpolation polynomial of degree 3 from the data in the table (you may use the  functions lagran_interp() and lfun() from Lecture Eleven notes on GitHub), then use it to estimate the value of $f(x)$ for `x = np.linspace(0,2,20)`. \n",
    "\n",
    "(i) Plot the data in the table (use red astericks) \n",
    "\n",
    "(ii) on the same figure, plot `x = np.linspace(0,2,20)` against the estimated values of $f(x)$ obtained using lagrange interpolation. (use black astericks)\n",
    "\n",
    "[b.] Write a program that generates a cubic interpolant of the Newton's divided difference polynomial for the data in the table above. Use the cubic interpolant to estimate the value of $f(x)$ for `x = np.linspace(0,2,20)`.\n",
    "\n",
    "(i) Plot the estimated values of $f(x)$ obtained using the cubic interpolant of the Newton's divided difference polynomial against `x = np.linspace(0,2,20)`  (use green astericks). \n",
    "\n",
    "(ii) On the same figure, plot the estimated values of $f(x)$ obtained via lagrange interpolation against `x = np.linspace(0,2,20)` (use blue astericks). \n",
    "\n",
    "(iii) Plot log (to base 10) of the difference between the estimate of $f(x)$ obtained using lagrange interpolation and cubic interpolant of the Newton's divided difference polynomial.\n",
    "\n"
   ]
  },
  {
   "cell_type": "code",
   "execution_count": 7,
   "metadata": {},
   "outputs": [],
   "source": [
    "# Solution for Problem 5"
   ]
  },
  {
   "cell_type": "code",
   "execution_count": null,
   "metadata": {},
   "outputs": [],
   "source": [
    "#part a"
   ]
  },
  {
   "cell_type": "code",
   "execution_count": 10,
   "metadata": {},
   "outputs": [],
   "source": [
    "def lfun(xvals,jj,x):\n",
    "    lval = np.ones(x.size)\n",
    "    # Insert code here\n",
    "    n = xvals.size\n",
    "    for l in range(0,n):\n",
    "        if l != jj:\n",
    "            lval *= (x-xvals[l])/(xvals[jj]-xvals[l])  \n",
    "\n",
    "    return lval"
   ]
  },
  {
   "cell_type": "code",
   "execution_count": 11,
   "metadata": {},
   "outputs": [],
   "source": [
    "def lagran_interp(xvals,fvals,x):\n",
    "    n = fvals.size\n",
    "    # Insert code here \n",
    "    ipoly = np.zeros(x.size)\n",
    "    for jj in range(0,n):\n",
    "        ipoly += fvals[jj]*lfun(xvals,jj,x)\n",
    "   \n",
    "    return ipoly"
   ]
  },
  {
   "cell_type": "code",
   "execution_count": 16,
   "metadata": {},
   "outputs": [
    {
     "data": {
      "image/png": "[encoded data removed]",
      "text/plain": [
       "<Figure size 432x288 with 1 Axes>"
      ]
     },
     "metadata": {
      "needs_background": "light"
     },
     "output_type": "display_data"
    }
   ],
   "source": [
    "xvals = np.array([0.,0.5,1.,2.])\n",
    "fvals = np.array([1.,1.8987,3.7183,11.3891])\n",
    "xinterp = np.linspace(0.,2.,20)\n",
    "yinterp = lagran_interp(xvals,fvals,xinterp)\n",
    "plt.plot(xinterp,yinterp,'*',color='black')\n",
    "plt.plot(xvals,fvals,'*',color='red')\n",
    "plt.xlabel('$x$')\n",
    "plt.ylabel('$P_{3}(x)$')\n",
    "plt.show()"
   ]
  },
  {
   "cell_type": "code",
   "execution_count": null,
   "metadata": {},
   "outputs": [],
   "source": [
    "#part b"
   ]
  },
  {
   "cell_type": "code",
   "execution_count": 23,
   "metadata": {},
   "outputs": [],
   "source": [
    "def cubic(xvals, fvals):\n",
    "    b0 = fvals[0]\n",
    "    b1 = (fvals[1] - b0)/(xvals[1] - xvals[0])\n",
    "    b2 = (fvals[2] - b0 - b1*(xvals[2] - xvals[0]))/((xvals[2] - xvals[0])*(xvals[2] - xvals[1]))\n",
    "    denom3 = ((xvals[3]-xvals[0])*(xvals[3]-xvals[1])*(xvals[3]-xvals[2]))\n",
    "    numer3 = (fvals[3] - b0 - b1*(xvals[3]-xvals[0] - b2*(xvals[3]-xvals[0])*(xvals[3]-xvals[1])))\n",
    "    b3 = numer3/denom3\n",
    "    f3_ = lambda x: b0 + b1*(x-xvals[0]) + b2*(x-xvals[0])*(x-xvals[1]) + b3*(x-xvals[0])*(x-xvals[1])*(x-xvals[2])\n",
    "    return f3_"
   ]
  },
  {
   "cell_type": "code",
   "execution_count": 28,
   "metadata": {},
   "outputs": [
    {
     "data": {
      "image/png": "[encoded data removed]",
      "text/plain": [
       "<Figure size 432x288 with 1 Axes>"
      ]
     },
     "metadata": {
      "needs_background": "light"
     },
     "output_type": "display_data"
    }
   ],
   "source": [
    "xvals = [0.,0.5,1.,2.]\n",
    "fvals = [1.,1.8987,3.7183,11.3891]\n",
    "f3_ = cubic(xvals,fvals)\n",
    "xvals = np.linspace(0,2,20)\n",
    "yvals = [f3_(xval) for xval in xvals]\n",
    "plt.plot(xvals, yvals,'*',color='green')\n",
    "xvals = np.array([0.,0.5,1.,2.])\n",
    "fvals = np.array([1.,1.8987,3.7183,11.3891])\n",
    "xinterp = np.linspace(0.,2.,20)\n",
    "yinterp = lagran_interp(xvals,fvals,xinterp)\n",
    "plt.plot(xinterp,yinterp,'*',color='blue')\n",
    "plt.show()"
   ]
  },
  {
   "cell_type": "code",
   "execution_count": null,
   "metadata": {},
   "outputs": [],
   "source": [
    "#part b.iii"
   ]
  },
  {
   "cell_type": "code",
   "execution_count": 30,
   "metadata": {},
   "outputs": [
    {
     "data": {
      "image/png": "[encoded data removed]",
      "text/plain": [
       "<Figure size 432x288 with 1 Axes>"
      ]
     },
     "metadata": {
      "needs_background": "light"
     },
     "output_type": "display_data"
    }
   ],
   "source": [
    "plt.plot(xinterp,np.ma.log10(np.abs(yvals-yinterp)),ls='-',color='k')\n",
    "plt.show()"
   ]
  },
  {
   "cell_type": "markdown",
   "metadata": {},
   "source": [
    "**Problem 6** (3 points)\n",
    "\n",
    "Write a program to solve the following tridiagonal system of equations\n",
    "$$Ax = b,$$\n",
    "\n",
    "where $A$ is a tridiagonal matrix and $b$ is a vector defined below.\n",
    "\n",
    "[a.] $A$ is a $4 \\times 4$ matrix, and $b$ is a column vector with 4 elements.\n",
    "\n",
    "$$A = \\begin{bmatrix} \n",
    "3 & 5 & 0 & 0 \\\\\n",
    "1 & 4 & 6 & 0 \\\\\n",
    "0 & 5 & 7 & 3 \\\\\n",
    "0 & 0 & 3 & 8 \n",
    "\\end{bmatrix} \\quad \\text{ and } \\quad \n",
    "b = \\begin{pmatrix}\n",
    "13\\\\27\\\\43\\\\41\n",
    "\\end{pmatrix}\n",
    "$$ \n",
    "\n",
    "[b.] $A$ is a $10 \\times 10$ matrix, and $b$ is a column vector with 10 elements. \n",
    "\n",
    "$$A = \\begin{bmatrix} \n",
    "-2 & 1 & 0 & ... & ... & 0 \\\\\n",
    "1 & -2 & 1 & 0 & ... & 0 \\\\\n",
    "0 & 1 & -2 & 1 & ... & 0 \\\\\n",
    "... & ... & ... & ... & ... & ... \\\\\n",
    "0 & ... & 0 & 1 & -2 & 1 \\\\\n",
    "0 & ... & ... & 0 & 1 & -2\n",
    "\\end{bmatrix} \\quad \\text{ and } \\quad \n",
    "b = \\begin{pmatrix}\n",
    "-1\\\\0\\\\0\\\\ ... \\\\0\\\\0\\\\-5\n",
    "\\end{pmatrix}\n",
    "$$ "
   ]
  },
  {
   "cell_type": "code",
   "execution_count": 8,
   "metadata": {},
   "outputs": [],
   "source": [
    "# Solution for Problem 6"
   ]
  },
  {
   "cell_type": "code",
   "execution_count": null,
   "metadata": {},
   "outputs": [],
   "source": [
    "#part a"
   ]
  },
  {
   "cell_type": "code",
   "execution_count": 34,
   "metadata": {},
   "outputs": [
    {
     "name": "stdout",
     "output_type": "stream",
     "text": [
      "[1. 2. 3. 4.]\n"
     ]
    }
   ],
   "source": [
    "A = np.intc([[3,5,0,0], [1,4,6,0], [0,5,7,3], [0,0,3,8]])\n",
    "b = np.intc([13,27,43,41])\n",
    "x = solve(A,b)\n",
    "print(x)"
   ]
  },
  {
   "cell_type": "code",
   "execution_count": null,
   "metadata": {},
   "outputs": [],
   "source": [
    "# part b"
   ]
  },
  {
   "cell_type": "code",
   "execution_count": 41,
   "metadata": {},
   "outputs": [
    {
     "name": "stdout",
     "output_type": "stream",
     "text": [
      "[[-2.  1.  0.  0.  0.  0.  0.  0.  0.  0.]\n",
      " [ 1. -2.  1.  0.  0.  0.  0.  0.  0.  0.]\n",
      " [ 0.  1. -2.  1.  0.  0.  0.  0.  0.  0.]\n",
      " [ 0.  0.  1. -2.  1.  0.  0.  0.  0.  0.]\n",
      " [ 0.  0.  0.  1. -2.  1.  0.  0.  0.  0.]\n",
      " [ 0.  0.  0.  0.  1. -2.  1.  0.  0.  0.]\n",
      " [ 0.  0.  0.  0.  0.  1. -2.  1.  0.  0.]\n",
      " [ 0.  0.  0.  0.  0.  0.  1. -2.  1.  0.]\n",
      " [ 0.  0.  0.  0.  0.  0.  0.  1. -2.  1.]\n",
      " [ 0.  0.  0.  0.  0.  0.  0.  0.  1. -2.]]\n",
      "[[-1.]\n",
      " [ 0.]\n",
      " [ 0.]\n",
      " [ 0.]\n",
      " [ 0.]\n",
      " [ 0.]\n",
      " [ 0.]\n",
      " [ 0.]\n",
      " [ 0.]\n",
      " [ 5.]]\n",
      "[[ 0.45454545]\n",
      " [-0.09090909]\n",
      " [-0.63636364]\n",
      " [-1.18181818]\n",
      " [-1.72727273]\n",
      " [-2.27272727]\n",
      " [-2.81818182]\n",
      " [-3.36363636]\n",
      " [-3.90909091]\n",
      " [-4.45454545]]\n"
     ]
    }
   ],
   "source": [
    "A = np.zeros((10,10))\n",
    "for i in range(10):\n",
    "    for j in range(10):\n",
    "        if i==j:\n",
    "            A[i][j] = -2\n",
    "            if i == 9 and j == 9:\n",
    "                continue\n",
    "            A[i+1][j] = 1\n",
    "            A[i][j+1] = 1\n",
    "print(A)\n",
    "b = np.zeros((10,1))\n",
    "b[0][0] = -1\n",
    "b[9][0] = 5\n",
    "print(b)\n",
    "x = solve(A,b)\n",
    "print(x)"
   ]
  },
  {
   "cell_type": "markdown",
   "metadata": {},
   "source": [
    "**Problem 7** (4 points)\n",
    "\n",
    "Develop quadratic splines for the following data points in the following table.\n",
    "\n",
    "| $x$| $f(x)$|\n",
    "|:---:|:------:|\n",
    "|-1.00|-1.0000|\n",
    "|-0.65|0.3860|\n",
    "|0.10|0.4802|\n",
    "|0.40|0.8838|\n",
    "|1.00|1.0000|\n",
    "\n",
    "Using quadratic splines, estimate the value of $f(-0.3)$.\n",
    "\n",
    "You must show your work to get full credit."
   ]
  },
  {
   "cell_type": "code",
   "execution_count": 9,
   "metadata": {},
   "outputs": [],
   "source": [
    "# Solution for Problem 7"
   ]
  },
  {
   "cell_type": "markdown",
   "metadata": {},
   "source": [
    "End Points:\n",
    "$$\n",
    "a_1(-1)^2 + b_1(-1) + c_1 = -1\n",
    "$$\n",
    "$$\n",
    "a_4(1)^2 + b_4(1) + c_4 = 1\n",
    "$$"
   ]
  },
  {
   "cell_type": "markdown",
   "metadata": {},
   "source": [
    "Interior Points:\n",
    "$$\n",
    "a_1(-0.65)^2 + b_1(-0.65) + c_1 = 0.386\n",
    "$$ $$\n",
    "a_2(-0.65)^2 + b_2(-0.65) + c_2 = 0.386\n",
    "$$\n",
    "$$\n",
    "a_2(0.1)^2 + b_2(0.1) + c_2 = 0.4802\n",
    "$$ $$\n",
    "a_3(0.1)^2 + b_3(0.1) + c_3 = 0.4802\n",
    "$$\n",
    "$$\n",
    "a_3(0.4)^2 + b_3(0.4) + c_3 = 0.8838\n",
    "$$ $$\n",
    "a_4(0.4)^2 + b_4(0.4) + c_4 = 0.8838\n",
    "$$"
   ]
  },
  {
   "cell_type": "markdown",
   "metadata": {},
   "source": [
    "Derivatives at Interior Points:\n",
    "$$\n",
    "2a_1(-0.65) + b_1 = 2a_2(-0.65) + b_2\n",
    "$$ $$\n",
    "2a_2(0.1) + b_2 = 2a_3(0.1) + b_3\n",
    "$$ $$\n",
    "2a_3(0.4) + b_3 = 2a_4(0.4) + b_4\n",
    "$$"
   ]
  },
  {
   "cell_type": "markdown",
   "metadata": {},
   "source": [
    "Make first spline linear:\n",
    "$$\n",
    "a_1 = 0\n",
    "$$"
   ]
  },
  {
   "cell_type": "markdown",
   "metadata": {},
   "source": [
    "$$\\begin{bmatrix}\n",
    "-1 & 1 & 0 & 0 & 0 & 0 & 0 & 0 & 0 & 0 & 0\\\\\n",
    "0 & 0 & 0 & 0 & 0 & 0 & 0 & 0 & 1 & 1 & 1\\\\\n",
    "-0.65 & 1 & 0 & 0 & 0 & 0 & 0 & 0 & 0 & 0 & 0\\\\\n",
    "0 & 0 & 0.4225 & -0.65 & 1 & 0 & 0 & 0 & 0 & 0 & 0\\\\\n",
    "0 & 0 & 0.01 & 0.1 & 1 & 0 & 0 & 0 & 0 & 0 & 0\\\\\n",
    "0 & 0 & 0 & 0 & 0 & 0.01 & 0.1 & 1 & 0 & 0 & 0\\\\\n",
    "0 & 0 & 0 & 0 & 0 & 0.16 & 0.4 & 1 & 0 & 0 & 0\\\\\n",
    "0 & 0 & 0 & 0 & 0 & 0 & 0 & 0 & 0.16 & 0.4 & 0.4\\\\\n",
    "1 & 0 & 1.3 & -1 & 0 & 0 & 0 & 0 & 0 & 0 & 0\\\\\n",
    "0 & 0 & 0.2 & 1 & 0 & -0.2 & -1 & 0 & 0 & 0 & 0\\\\\n",
    "0 & 0 & 0 & 0 & 0 & 0.8 & 1 & 0 & -0.8 & -1 & 0\\\\\n",
    "\\end{bmatrix}\n",
    "\\begin{pmatrix}\n",
    "b_1\\\\ c_1\\\\\n",
    "a_2\\\\b_2\\\\c_2\\\\\n",
    "a_3\\\\b_3\\\\c_3\\\\\n",
    "a_4\\\\b_4\\\\c_4\n",
    "\\end{pmatrix} = \n",
    "\\begin{pmatrix}\n",
    "-1\\\\1\\\\0.386\\\\0.386\\\\0.4802\\\\0.4802\\\\0.8838\\\\0.8838\\\\0\\\\0\\\\0\n",
    "\\end{pmatrix}$$"
   ]
  },
  {
   "cell_type": "code",
   "execution_count": 6,
   "metadata": {},
   "outputs": [
    {
     "name": "stdout",
     "output_type": "stream",
     "text": [
      "[  3.96         2.96        -5.11253333  -2.68629333   0.79995467\n",
      "  16.84711111  -7.07822222   1.01955111 -10.343       14.67386667\n",
      "  -3.33086667]\n"
     ]
    }
   ],
   "source": [
    "A = np.array([[-1 , 1 , 0 , 0 , 0 , 0 , 0 , 0 , 0 , 0 , 0], \n",
    "              [ 0 , 0 , 0 , 0 , 0 , 0 , 0 , 0 , 1 , 1 , 1 ], \n",
    "              [-0.65 , 1 , 0 , 0 , 0 , 0 , 0 , 0 , 0 , 0 , 0 ],\n",
    "              [0 , 0 , 0.4225 , -0.65 , 1 , 0 , 0 , 0 , 0 , 0 , 0],\n",
    "              [0 , 0 , 0.01 , 0.1 , 1 , 0 , 0 , 0 , 0 , 0 , 0],\n",
    "              [0 , 0 , 0 , 0 , 0 , 0.01 , 0.1 , 1 , 0 , 0 , 0],\n",
    "              [0 , 0 , 0 , 0 , 0 , 0.16 , 0.4 , 1 , 0 , 0 , 0],\n",
    "              [0 , 0 , 0 , 0 , 0 , 0 , 0 , 0 , 0.16 , 0.4 , 1],\n",
    "              [1 , 0 , 1.3 , -1 , 0 , 0 , 0 , 0 , 0 , 0 , 0],\n",
    "              [0 , 0 , 0.2 , 1 , 0 , -0.2 , -1 , 0 , 0 , 0 , 0],\n",
    "              [0 , 0 , 0 , 0 , 0 , 0.8 , 1 , 0 , -0.8 , -1 , 0 ]])\n",
    "\n",
    "b = np.array([ -1, 1, 0.386 , 0.386 , 0.4802 , 0.4802 , 0.8838 , 0.8838 , 0 , 0 ,0])\n",
    "x = np.linalg.solve(A,b)\n",
    "\n",
    "print(x)"
   ]
  },
  {
   "cell_type": "markdown",
   "metadata": {},
   "source": [
    "$$\n",
    "\\begin{pmatrix}\n",
    "b_1\\\\ c_1\\\\\n",
    "a_2\\\\b_2\\\\c_2\\\\\n",
    "a_3\\\\b_3\\\\c_3\\\\\n",
    "a_4\\\\b_4\\\\c_4\n",
    "\\end{pmatrix} = \n",
    "\\begin{pmatrix}\n",
    "3.96\\\\2.96\\\\\n",
    "-5.1125\\\\-2.6863\\\\0.7999\\\\\n",
    "16.8471\\\\-7.0782\\\\1.0195\\\\\n",
    "-10.343\\\\14.6739\\\\-3.3309\n",
    "\\end{pmatrix}\n",
    "$$"
   ]
  },
  {
   "cell_type": "markdown",
   "metadata": {},
   "source": [
    "We can then say that:\n",
    "$$\n",
    "f(x) = a_2(x)^2 + b_2(x) + c_2\n",
    "$$ $$\n",
    "f(x) = -5.1125(x)^2 - 2.6863x + 0.7999\n",
    "$$ $$\n",
    "f(-0.3) = -5.1125(-0.3)^2 - 2.6863(-0.3) + 0.7999 = 1.1457\n",
    "$$"
   ]
  },
  {
   "cell_type": "code",
   "execution_count": null,
   "metadata": {},
   "outputs": [],
   "source": []
  }
 ],
 "metadata": {
  "kernelspec": {
   "display_name": "Python 3",
   "language": "python",
   "name": "python3"
  },
  "language_info": {
   "codemirror_mode": {
    "name": "ipython",
    "version": 3
   },
   "file_extension": ".py",
   "mimetype": "text/x-python",
   "name": "python",
   "nbconvert_exporter": "python",
   "pygments_lexer": "ipython3",
   "version": "3.8.5"
  }
 },
 "nbformat": 4,
 "nbformat_minor": 2
}
